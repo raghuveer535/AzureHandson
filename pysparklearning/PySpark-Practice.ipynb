{
  "nbformat": 4,
  "nbformat_minor": 0,
  "metadata": {
    "colab": {
      "name": "PySpark_Practice.ipynb",
      "provenance": [],
      "collapsed_sections": []
    },
    "kernelspec": {
      "name": "python3",
      "display_name": "Python 3"
    },
    "language_info": {
      "name": "python"
    }
  },
  "cells": [
    {
      "cell_type": "markdown",
      "source": [
        "### **Pyspark Intial setup**"
      ],
      "metadata": {
        "id": "AVq-x1xi3RXs"
      }
    },
    {
      "cell_type": "code",
      "source": [
        "!pip install pyspark py4j"
      ],
      "metadata": {
        "colab": {
          "base_uri": "https://localhost:8080/"
        },
        "id": "dObWez1w3dZE",
        "outputId": "fe145d18-d3a7-4cb2-def3-085ea3505512"
      },
      "execution_count": 1,
      "outputs": [
        {
          "output_type": "stream",
          "name": "stdout",
          "text": [
            "Collecting pyspark\n",
            "  Downloading pyspark-3.2.1.tar.gz (281.4 MB)\n",
            "\u001b[K     |████████████████████████████████| 281.4 MB 29 kB/s \n",
            "\u001b[?25hCollecting py4j\n",
            "  Downloading py4j-0.10.9.5-py2.py3-none-any.whl (199 kB)\n",
            "\u001b[K     |████████████████████████████████| 199 kB 50.1 MB/s \n",
            "\u001b[?25h  Downloading py4j-0.10.9.3-py2.py3-none-any.whl (198 kB)\n",
            "\u001b[K     |████████████████████████████████| 198 kB 36.9 MB/s \n",
            "\u001b[?25hBuilding wheels for collected packages: pyspark\n",
            "  Building wheel for pyspark (setup.py) ... \u001b[?25l\u001b[?25hdone\n",
            "  Created wheel for pyspark: filename=pyspark-3.2.1-py2.py3-none-any.whl size=281853642 sha256=f2dae49646708f0ff7d7093848037e7d36e21ec74366a2842d080ccc9b8f6b14\n",
            "  Stored in directory: /root/.cache/pip/wheels/9f/f5/07/7cd8017084dce4e93e84e92efd1e1d5334db05f2e83bcef74f\n",
            "Successfully built pyspark\n",
            "Installing collected packages: py4j, pyspark\n",
            "Successfully installed py4j-0.10.9.3 pyspark-3.2.1\n"
          ]
        }
      ]
    },
    {
      "cell_type": "code",
      "source": [
        "!pip install findspark"
      ],
      "metadata": {
        "colab": {
          "base_uri": "https://localhost:8080/"
        },
        "id": "WgaO2KeZ3dcn",
        "outputId": "7ed84314-874d-432e-a291-2b70504d3a8a"
      },
      "execution_count": 2,
      "outputs": [
        {
          "output_type": "stream",
          "name": "stdout",
          "text": [
            "Collecting findspark\n",
            "  Downloading findspark-2.0.1-py2.py3-none-any.whl (4.4 kB)\n",
            "Installing collected packages: findspark\n",
            "Successfully installed findspark-2.0.1\n"
          ]
        }
      ]
    },
    {
      "cell_type": "code",
      "source": [
        "from pyspark.sql import SparkSession\n",
        "import findspark\n",
        "from pyspark import SparkContext"
      ],
      "metadata": {
        "id": "gyS8oynd3buV"
      },
      "execution_count": 3,
      "outputs": []
    },
    {
      "cell_type": "code",
      "source": [
        "findspark.init()\n",
        "#create SparkContext\n",
        "sc = SparkContext.getOrCreate()\n",
        "print(\"SparkCOntext: \",sc)"
      ],
      "metadata": {
        "colab": {
          "base_uri": "https://localhost:8080/"
        },
        "id": "tPJ2cudA4M2N",
        "outputId": "0e67ace2-9c0d-40bf-fc56-d4c363faa619"
      },
      "execution_count": 4,
      "outputs": [
        {
          "output_type": "stream",
          "name": "stdout",
          "text": [
            "SparkCOntext:  <SparkContext master=local[*] appName=pyspark-shell>\n"
          ]
        }
      ]
    },
    {
      "cell_type": "code",
      "source": [
        "spark = SparkSession.builder\\\n",
        "        .master(\"Local1\")\\\n",
        "        .appName(\"MyApplication1\")\\\n",
        "        .getOrCreate()"
      ],
      "metadata": {
        "id": "QhMGv6ID4HJ9"
      },
      "execution_count": 5,
      "outputs": []
    },
    {
      "cell_type": "markdown",
      "source": [
        "### **PySpark Practice Session#1**"
      ],
      "metadata": {
        "id": "9blM86j54ZPM"
      }
    },
    {
      "cell_type": "markdown",
      "source": [
        "### **Creating PySpark DataFrame Using CSV**"
      ],
      "metadata": {
        "id": "SMnIgESC4gY1"
      }
    },
    {
      "cell_type": "markdown",
      "source": [
        "### **Reading the DataFrame**\n",
        "### **Checking Data Types or Meta Data**\n",
        "### **Selecting Particualr Columns**\n",
        "### **Describe or Summary Information of DataFrame**\n",
        "### **Adding New Columns**\n",
        "### **Dropping the Columns**\n",
        "### **Renaming the Columns**"
      ],
      "metadata": {
        "id": "JH583WuJ4rev"
      }
    },
    {
      "cell_type": "markdown",
      "source": [
        "## **Reading the Data and Creating DataFrame**\n",
        "\n",
        "\n"
      ],
      "metadata": {
        "id": "Ad8D9un27R4B"
      }
    },
    {
      "cell_type": "code",
      "source": [
        "#Reading The Data Frames\n",
        "df_emp = spark.read.option(\"InferSchema\",\"true\").option(\"delimiter\",\",\").option(\"header\",\"true\").csv('sample_data/Emp_Table_Extract.csv')"
      ],
      "metadata": {
        "id": "p8xRPK4u4pd_"
      },
      "execution_count": 6,
      "outputs": []
    },
    {
      "cell_type": "markdown",
      "source": [
        "### **Checking the Meta Data Information**"
      ],
      "metadata": {
        "id": "Y25vpAuo71do"
      }
    },
    {
      "cell_type": "code",
      "source": [
        "#Checking the Meta Data Information\n",
        "#To Print Schema Details\n",
        "df_emp.printSchema()"
      ],
      "metadata": {
        "colab": {
          "base_uri": "https://localhost:8080/"
        },
        "id": "HNCoCZQB4HNM",
        "outputId": "4f92e2a8-48e7-4122-ae00-1ebc9c0522d4"
      },
      "execution_count": 7,
      "outputs": [
        {
          "output_type": "stream",
          "name": "stdout",
          "text": [
            "root\n",
            " |-- EMPNO: integer (nullable = true)\n",
            " |-- ENAME: string (nullable = true)\n",
            " |-- JOB: string (nullable = true)\n",
            " |-- MGR: integer (nullable = true)\n",
            " |-- HIREDATE: string (nullable = true)\n",
            " |-- SAL: integer (nullable = true)\n",
            " |-- COMM: integer (nullable = true)\n",
            " |-- DEPTNO: integer (nullable = true)\n",
            "\n"
          ]
        }
      ]
    },
    {
      "cell_type": "code",
      "source": [
        "#To Print Column Details\n",
        "df_emp.columns"
      ],
      "metadata": {
        "colab": {
          "base_uri": "https://localhost:8080/"
        },
        "id": "fN9KP_p74HRy",
        "outputId": "4c815085-1221-449f-f886-780788aaf8a5"
      },
      "execution_count": 8,
      "outputs": [
        {
          "output_type": "execute_result",
          "data": {
            "text/plain": [
              "['EMPNO', 'ENAME', 'JOB', 'MGR', 'HIREDATE', 'SAL', 'COMM', 'DEPTNO']"
            ]
          },
          "metadata": {},
          "execution_count": 8
        }
      ]
    },
    {
      "cell_type": "code",
      "source": [
        "#To Print Column Details\n",
        "df_emp.columns"
      ],
      "metadata": {
        "id": "wKi9eXU74HUp",
        "colab": {
          "base_uri": "https://localhost:8080/"
        },
        "outputId": "b6afbb83-008b-4084-c7ae-0b0bf8514285"
      },
      "execution_count": 9,
      "outputs": [
        {
          "output_type": "execute_result",
          "data": {
            "text/plain": [
              "['EMPNO', 'ENAME', 'JOB', 'MGR', 'HIREDATE', 'SAL', 'COMM', 'DEPTNO']"
            ]
          },
          "metadata": {},
          "execution_count": 9
        }
      ]
    },
    {
      "cell_type": "code",
      "source": [
        "#To Print Column data type\n",
        "df_emp.dtypes"
      ],
      "metadata": {
        "colab": {
          "base_uri": "https://localhost:8080/"
        },
        "id": "B_l_x44k4HXX",
        "outputId": "8d3a4e7e-2fb4-43f5-c832-630ef1bed8a3"
      },
      "execution_count": null,
      "outputs": [
        {
          "output_type": "execute_result",
          "data": {
            "text/plain": [
              "[('EMPNO', 'int'),\n",
              " ('ENAME', 'string'),\n",
              " ('JOB', 'string'),\n",
              " ('MGR', 'int'),\n",
              " ('HIREDATE', 'string'),\n",
              " ('SAL', 'int'),\n",
              " ('COMM', 'int'),\n",
              " ('DEPTNO', 'int')]"
            ]
          },
          "metadata": {},
          "execution_count": 12
        }
      ]
    },
    {
      "cell_type": "markdown",
      "source": [
        "### **Selecting Particular Columns**"
      ],
      "metadata": {
        "id": "eJlEQfit7-H3"
      }
    },
    {
      "cell_type": "code",
      "source": [
        "df_emp.select('ENAME','EMPNO').show()"
      ],
      "metadata": {
        "colab": {
          "base_uri": "https://localhost:8080/"
        },
        "id": "PR8XldtF8COh",
        "outputId": "96cd6d63-662b-4768-edd0-cfaa4550d861"
      },
      "execution_count": null,
      "outputs": [
        {
          "output_type": "stream",
          "name": "stdout",
          "text": [
            "+------+-----+\n",
            "| ENAME|EMPNO|\n",
            "+------+-----+\n",
            "|  KING| 7839|\n",
            "| BLAKE| 7698|\n",
            "| CLARK| 7782|\n",
            "| JONES| 7566|\n",
            "| SCOTT| 7788|\n",
            "|  FORD| 7902|\n",
            "| SMITH| 7369|\n",
            "| ALLEN| 7499|\n",
            "|  WARD| 7521|\n",
            "|MARTIN| 7654|\n",
            "|TURNER| 7844|\n",
            "| ADAMS| 7876|\n",
            "| JAMES| 7900|\n",
            "|MILLER| 7934|\n",
            "+------+-----+\n",
            "\n"
          ]
        }
      ]
    },
    {
      "cell_type": "markdown",
      "source": [
        "### **Describe or Summary Information of DataFrame**"
      ],
      "metadata": {
        "id": "kXWFMY3k8jr_"
      }
    },
    {
      "cell_type": "code",
      "source": [
        "df_emp.describe().show()"
      ],
      "metadata": {
        "colab": {
          "base_uri": "https://localhost:8080/"
        },
        "id": "7GtJBxcj8m_n",
        "outputId": "e7ffa21a-1b29-4ad8-f1d8-99f9209c7a7a"
      },
      "execution_count": null,
      "outputs": [
        {
          "output_type": "stream",
          "name": "stdout",
          "text": [
            "+-------+------------------+-----+--------+------------------+---------+------------------+-----------------+------------------+\n",
            "|summary|             EMPNO|ENAME|     JOB|               MGR| HIREDATE|               SAL|             COMM|            DEPTNO|\n",
            "+-------+------------------+-----+--------+------------------+---------+------------------+-----------------+------------------+\n",
            "|  count|                14|   14|      14|                13|       14|                14|                4|                14|\n",
            "|   mean| 7726.571428571428| null|    null| 7739.307692307692|     null| 2073.214285714286|            550.0|22.142857142857142|\n",
            "| stddev|178.29436087795676| null|    null|103.71466033898376|     null|1182.5032235162716|602.7713773341708| 8.017837257372731|\n",
            "|    min|              7369|ADAMS| ANALYST|              7566|01-MAY-81|               800|                0|                10|\n",
            "|    max|              7934| WARD|SALESMAN|              7902|28-SEP-81|              5000|             1400|                30|\n",
            "+-------+------------------+-----+--------+------------------+---------+------------------+-----------------+------------------+\n",
            "\n"
          ]
        }
      ]
    },
    {
      "cell_type": "markdown",
      "source": [
        "### **Adding New Columns**"
      ],
      "metadata": {
        "id": "1x_0lbRT88Mv"
      }
    },
    {
      "cell_type": "code",
      "source": [
        "df_emp.withColumn('TotSal',df_emp['SAL']+df_emp['COMM']).show()"
      ],
      "metadata": {
        "colab": {
          "base_uri": "https://localhost:8080/"
        },
        "id": "xMM7c_ip8-jN",
        "outputId": "f4fc27b6-931d-435d-d587-e956901ec5fb"
      },
      "execution_count": null,
      "outputs": [
        {
          "output_type": "stream",
          "name": "stdout",
          "text": [
            "+-----+------+---------+----+---------+----+----+------+------+\n",
            "|EMPNO| ENAME|      JOB| MGR| HIREDATE| SAL|COMM|DEPTNO|TotSal|\n",
            "+-----+------+---------+----+---------+----+----+------+------+\n",
            "| 7839|  KING|PRESIDENT|null|17-NOV-81|5000|null|    10|  null|\n",
            "| 7698| BLAKE|  MANAGER|7839|01-MAY-81|2850|null|    30|  null|\n",
            "| 7782| CLARK|  MANAGER|7839|09-JUN-81|2450|null|    10|  null|\n",
            "| 7566| JONES|  MANAGER|7839|02-APR-81|2975|null|    20|  null|\n",
            "| 7788| SCOTT|  ANALYST|7566|19-APR-87|3000|null|    20|  null|\n",
            "| 7902|  FORD|  ANALYST|7566|03-DEC-81|3000|null|    20|  null|\n",
            "| 7369| SMITH|    CLERK|7902|17-DEC-80| 800|null|    20|  null|\n",
            "| 7499| ALLEN| SALESMAN|7698|20-FEB-81|1600| 300|    30|  1900|\n",
            "| 7521|  WARD| SALESMAN|7698|22-FEB-81|1250| 500|    30|  1750|\n",
            "| 7654|MARTIN| SALESMAN|7698|28-SEP-81|1250|1400|    30|  2650|\n",
            "| 7844|TURNER| SALESMAN|7698|08-SEP-81|1500|   0|    30|  1500|\n",
            "| 7876| ADAMS|    CLERK|7788|23-MAY-87|1100|null|    20|  null|\n",
            "| 7900| JAMES|    CLERK|7698|03-DEC-81| 950|null|    30|  null|\n",
            "| 7934|MILLER|    CLERK|7782|23-JAN-82|1300|null|    10|  null|\n",
            "+-----+------+---------+----+---------+----+----+------+------+\n",
            "\n"
          ]
        }
      ]
    },
    {
      "cell_type": "markdown",
      "source": [
        "### **Dropping the Columns**"
      ],
      "metadata": {
        "id": "svB8Zhjy9nFG"
      }
    },
    {
      "cell_type": "code",
      "source": [
        "df_emp.drop('TotSal').show()"
      ],
      "metadata": {
        "colab": {
          "base_uri": "https://localhost:8080/"
        },
        "id": "Trh1Ua6i9pka",
        "outputId": "0aabad6f-4820-445a-de39-b2270fe010ed"
      },
      "execution_count": null,
      "outputs": [
        {
          "output_type": "stream",
          "name": "stdout",
          "text": [
            "+-----+------+---------+----+---------+----+----+------+\n",
            "|EMPNO| ENAME|      JOB| MGR| HIREDATE| SAL|COMM|DEPTNO|\n",
            "+-----+------+---------+----+---------+----+----+------+\n",
            "| 7839|  KING|PRESIDENT|null|17-NOV-81|5000|null|    10|\n",
            "| 7698| BLAKE|  MANAGER|7839|01-MAY-81|2850|null|    30|\n",
            "| 7782| CLARK|  MANAGER|7839|09-JUN-81|2450|null|    10|\n",
            "| 7566| JONES|  MANAGER|7839|02-APR-81|2975|null|    20|\n",
            "| 7788| SCOTT|  ANALYST|7566|19-APR-87|3000|null|    20|\n",
            "| 7902|  FORD|  ANALYST|7566|03-DEC-81|3000|null|    20|\n",
            "| 7369| SMITH|    CLERK|7902|17-DEC-80| 800|null|    20|\n",
            "| 7499| ALLEN| SALESMAN|7698|20-FEB-81|1600| 300|    30|\n",
            "| 7521|  WARD| SALESMAN|7698|22-FEB-81|1250| 500|    30|\n",
            "| 7654|MARTIN| SALESMAN|7698|28-SEP-81|1250|1400|    30|\n",
            "| 7844|TURNER| SALESMAN|7698|08-SEP-81|1500|   0|    30|\n",
            "| 7876| ADAMS|    CLERK|7788|23-MAY-87|1100|null|    20|\n",
            "| 7900| JAMES|    CLERK|7698|03-DEC-81| 950|null|    30|\n",
            "| 7934|MILLER|    CLERK|7782|23-JAN-82|1300|null|    10|\n",
            "+-----+------+---------+----+---------+----+----+------+\n",
            "\n"
          ]
        }
      ]
    },
    {
      "cell_type": "markdown",
      "source": [
        "### **Renaming The column**"
      ],
      "metadata": {
        "id": "xqk9qW9b9-I6"
      }
    },
    {
      "cell_type": "code",
      "source": [
        "df_emp.withColumnRenamed('ENAME','RENAME').collect()"
      ],
      "metadata": {
        "colab": {
          "base_uri": "https://localhost:8080/"
        },
        "id": "TCShkZXa-Bvj",
        "outputId": "a17e7fcd-23db-40b9-fe7e-9294f9997abe"
      },
      "execution_count": null,
      "outputs": [
        {
          "output_type": "execute_result",
          "data": {
            "text/plain": [
              "[Row(EMPNO=7839, RENAME='KING', JOB='PRESIDENT', MGR=None, HIREDATE='17-NOV-81', SAL=5000, COMM=None, DEPTNO=10),\n",
              " Row(EMPNO=7698, RENAME='BLAKE', JOB='MANAGER', MGR=7839, HIREDATE='01-MAY-81', SAL=2850, COMM=None, DEPTNO=30),\n",
              " Row(EMPNO=7782, RENAME='CLARK', JOB='MANAGER', MGR=7839, HIREDATE='09-JUN-81', SAL=2450, COMM=None, DEPTNO=10),\n",
              " Row(EMPNO=7566, RENAME='JONES', JOB='MANAGER', MGR=7839, HIREDATE='02-APR-81', SAL=2975, COMM=None, DEPTNO=20),\n",
              " Row(EMPNO=7788, RENAME='SCOTT', JOB='ANALYST', MGR=7566, HIREDATE='19-APR-87', SAL=3000, COMM=None, DEPTNO=20),\n",
              " Row(EMPNO=7902, RENAME='FORD', JOB='ANALYST', MGR=7566, HIREDATE='03-DEC-81', SAL=3000, COMM=None, DEPTNO=20),\n",
              " Row(EMPNO=7369, RENAME='SMITH', JOB='CLERK', MGR=7902, HIREDATE='17-DEC-80', SAL=800, COMM=None, DEPTNO=20),\n",
              " Row(EMPNO=7499, RENAME='ALLEN', JOB='SALESMAN', MGR=7698, HIREDATE='20-FEB-81', SAL=1600, COMM=300, DEPTNO=30),\n",
              " Row(EMPNO=7521, RENAME='WARD', JOB='SALESMAN', MGR=7698, HIREDATE='22-FEB-81', SAL=1250, COMM=500, DEPTNO=30),\n",
              " Row(EMPNO=7654, RENAME='MARTIN', JOB='SALESMAN', MGR=7698, HIREDATE='28-SEP-81', SAL=1250, COMM=1400, DEPTNO=30),\n",
              " Row(EMPNO=7844, RENAME='TURNER', JOB='SALESMAN', MGR=7698, HIREDATE='08-SEP-81', SAL=1500, COMM=0, DEPTNO=30),\n",
              " Row(EMPNO=7876, RENAME='ADAMS', JOB='CLERK', MGR=7788, HIREDATE='23-MAY-87', SAL=1100, COMM=None, DEPTNO=20),\n",
              " Row(EMPNO=7900, RENAME='JAMES', JOB='CLERK', MGR=7698, HIREDATE='03-DEC-81', SAL=950, COMM=None, DEPTNO=30),\n",
              " Row(EMPNO=7934, RENAME='MILLER', JOB='CLERK', MGR=7782, HIREDATE='23-JAN-82', SAL=1300, COMM=None, DEPTNO=10)]"
            ]
          },
          "metadata": {},
          "execution_count": 25
        }
      ]
    },
    {
      "cell_type": "code",
      "source": [
        "df_emp.withColumnRenamed('ENAME','RENAME').show()"
      ],
      "metadata": {
        "colab": {
          "base_uri": "https://localhost:8080/"
        },
        "id": "uBYa6Emx8CRo",
        "outputId": "c71eeb46-1656-4e0a-8fc8-776d2541327f"
      },
      "execution_count": null,
      "outputs": [
        {
          "output_type": "stream",
          "name": "stdout",
          "text": [
            "+-----+------+---------+----+---------+----+----+------+\n",
            "|EMPNO|RENAME|      JOB| MGR| HIREDATE| SAL|COMM|DEPTNO|\n",
            "+-----+------+---------+----+---------+----+----+------+\n",
            "| 7839|  KING|PRESIDENT|null|17-NOV-81|5000|null|    10|\n",
            "| 7698| BLAKE|  MANAGER|7839|01-MAY-81|2850|null|    30|\n",
            "| 7782| CLARK|  MANAGER|7839|09-JUN-81|2450|null|    10|\n",
            "| 7566| JONES|  MANAGER|7839|02-APR-81|2975|null|    20|\n",
            "| 7788| SCOTT|  ANALYST|7566|19-APR-87|3000|null|    20|\n",
            "| 7902|  FORD|  ANALYST|7566|03-DEC-81|3000|null|    20|\n",
            "| 7369| SMITH|    CLERK|7902|17-DEC-80| 800|null|    20|\n",
            "| 7499| ALLEN| SALESMAN|7698|20-FEB-81|1600| 300|    30|\n",
            "| 7521|  WARD| SALESMAN|7698|22-FEB-81|1250| 500|    30|\n",
            "| 7654|MARTIN| SALESMAN|7698|28-SEP-81|1250|1400|    30|\n",
            "| 7844|TURNER| SALESMAN|7698|08-SEP-81|1500|   0|    30|\n",
            "| 7876| ADAMS|    CLERK|7788|23-MAY-87|1100|null|    20|\n",
            "| 7900| JAMES|    CLERK|7698|03-DEC-81| 950|null|    30|\n",
            "| 7934|MILLER|    CLERK|7782|23-JAN-82|1300|null|    10|\n",
            "+-----+------+---------+----+---------+----+----+------+\n",
            "\n"
          ]
        }
      ]
    },
    {
      "cell_type": "markdown",
      "source": [
        "# **PySpark Handing Missing Values**\n",
        "### **Dropping Columns**\n",
        "### **Dropping Rows**\n",
        "### **Various Parameters In Dropping Functionality**\n",
        "### **Handling Missing Vlaues by Mean**"
      ],
      "metadata": {
        "id": "j6zCM3H-_uWW"
      }
    },
    {
      "cell_type": "code",
      "source": [
        "df_emp1 = df_emp"
      ],
      "metadata": {
        "id": "4Pr0BfvX__-1"
      },
      "execution_count": null,
      "outputs": []
    },
    {
      "cell_type": "code",
      "source": [
        "df_emp1.show()"
      ],
      "metadata": {
        "colab": {
          "base_uri": "https://localhost:8080/"
        },
        "id": "mvHPPPrg_7VH",
        "outputId": "2f8d1b54-70b0-4182-e625-9c441c34fe88"
      },
      "execution_count": null,
      "outputs": [
        {
          "output_type": "stream",
          "name": "stdout",
          "text": [
            "+-----+------+---------+----+---------+----+----+------+\n",
            "|EMPNO| ENAME|      JOB| MGR| HIREDATE| SAL|COMM|DEPTNO|\n",
            "+-----+------+---------+----+---------+----+----+------+\n",
            "| 7839|  KING|PRESIDENT|null|17-NOV-81|5000|null|    10|\n",
            "| 7698| BLAKE|  MANAGER|7839|01-MAY-81|2850|null|    30|\n",
            "| 7782| CLARK|  MANAGER|7839|09-JUN-81|2450|null|    10|\n",
            "| 7566| JONES|  MANAGER|7839|02-APR-81|2975|null|    20|\n",
            "| 7788| SCOTT|  ANALYST|7566|19-APR-87|3000|null|    20|\n",
            "| 7902|  FORD|  ANALYST|7566|03-DEC-81|3000|null|    20|\n",
            "| 7369| SMITH|    CLERK|7902|17-DEC-80| 800|null|    20|\n",
            "| 7499| ALLEN| SALESMAN|7698|20-FEB-81|1600| 300|    30|\n",
            "| 7521|  WARD| SALESMAN|7698|22-FEB-81|1250| 500|    30|\n",
            "| 7654|MARTIN| SALESMAN|7698|28-SEP-81|1250|1400|    30|\n",
            "| 7844|TURNER| SALESMAN|7698|08-SEP-81|1500|   0|    30|\n",
            "| 7876| ADAMS|    CLERK|7788|23-MAY-87|1100|null|    20|\n",
            "| 7900| JAMES|    CLERK|7698|03-DEC-81| 950|null|    30|\n",
            "| 7934|MILLER|    CLERK|7782|23-JAN-82|1300|null|    10|\n",
            "+-----+------+---------+----+---------+----+----+------+\n",
            "\n"
          ]
        }
      ]
    },
    {
      "cell_type": "code",
      "source": [
        "df_emp1.drop('HIREDATE').show()"
      ],
      "metadata": {
        "colab": {
          "base_uri": "https://localhost:8080/"
        },
        "id": "OQO5xcu_8CUh",
        "outputId": "db0da0d6-8c06-4d47-e65f-adb14510fa88"
      },
      "execution_count": null,
      "outputs": [
        {
          "output_type": "stream",
          "name": "stdout",
          "text": [
            "+-----+------+---------+----+----+----+------+\n",
            "|EMPNO| ENAME|      JOB| MGR| SAL|COMM|DEPTNO|\n",
            "+-----+------+---------+----+----+----+------+\n",
            "| 7839|  KING|PRESIDENT|null|5000|null|    10|\n",
            "| 7698| BLAKE|  MANAGER|7839|2850|null|    30|\n",
            "| 7782| CLARK|  MANAGER|7839|2450|null|    10|\n",
            "| 7566| JONES|  MANAGER|7839|2975|null|    20|\n",
            "| 7788| SCOTT|  ANALYST|7566|3000|null|    20|\n",
            "| 7902|  FORD|  ANALYST|7566|3000|null|    20|\n",
            "| 7369| SMITH|    CLERK|7902| 800|null|    20|\n",
            "| 7499| ALLEN| SALESMAN|7698|1600| 300|    30|\n",
            "| 7521|  WARD| SALESMAN|7698|1250| 500|    30|\n",
            "| 7654|MARTIN| SALESMAN|7698|1250|1400|    30|\n",
            "| 7844|TURNER| SALESMAN|7698|1500|   0|    30|\n",
            "| 7876| ADAMS|    CLERK|7788|1100|null|    20|\n",
            "| 7900| JAMES|    CLERK|7698| 950|null|    30|\n",
            "| 7934|MILLER|    CLERK|7782|1300|null|    10|\n",
            "+-----+------+---------+----+----+----+------+\n",
            "\n"
          ]
        }
      ]
    },
    {
      "cell_type": "code",
      "source": [
        "#Dropping the Null value data\n",
        "df_emp1.na.drop().show()\n",
        "#The function will delete all the NULL values realted rows."
      ],
      "metadata": {
        "colab": {
          "base_uri": "https://localhost:8080/"
        },
        "id": "f4NMc7Jt8CYO",
        "outputId": "bc1197ad-5359-470d-af03-a2369cf0dd3b"
      },
      "execution_count": null,
      "outputs": [
        {
          "output_type": "stream",
          "name": "stdout",
          "text": [
            "+-----+------+--------+----+---------+----+----+------+\n",
            "|EMPNO| ENAME|     JOB| MGR| HIREDATE| SAL|COMM|DEPTNO|\n",
            "+-----+------+--------+----+---------+----+----+------+\n",
            "| 7499| ALLEN|SALESMAN|7698|20-FEB-81|1600| 300|    30|\n",
            "| 7521|  WARD|SALESMAN|7698|22-FEB-81|1250| 500|    30|\n",
            "| 7654|MARTIN|SALESMAN|7698|28-SEP-81|1250|1400|    30|\n",
            "| 7844|TURNER|SALESMAN|7698|08-SEP-81|1500|   0|    30|\n",
            "+-----+------+--------+----+---------+----+----+------+\n",
            "\n"
          ]
        }
      ]
    },
    {
      "cell_type": "code",
      "source": [
        "#If we want to delete row based on the particular condition, we have give\n",
        "df_emp1.na.drop(how=\"any\",thresh=2).show()\n",
        "#Note: Based on the above condition If any row having 2 null vlaues we can drop that particular rows.\n",
        "#Inside the drop() we have options are available like how,thresh and subset.\n",
        "#If how = all means, if all the values are null then it will delete the row. By default it will \"any\","
      ],
      "metadata": {
        "colab": {
          "base_uri": "https://localhost:8080/"
        },
        "id": "_XgrHh504Hax",
        "outputId": "c40f06bc-ce7b-4675-c323-87fd17d9f96e"
      },
      "execution_count": null,
      "outputs": [
        {
          "output_type": "stream",
          "name": "stdout",
          "text": [
            "+-----+------+---------+----+---------+----+----+------+\n",
            "|EMPNO| ENAME|      JOB| MGR| HIREDATE| SAL|COMM|DEPTNO|\n",
            "+-----+------+---------+----+---------+----+----+------+\n",
            "| 7839|  KING|PRESIDENT|null|17-NOV-81|5000|null|    10|\n",
            "| 7698| BLAKE|  MANAGER|7839|01-MAY-81|2850|null|    30|\n",
            "| 7782| CLARK|  MANAGER|7839|09-JUN-81|2450|null|    10|\n",
            "| 7566| JONES|  MANAGER|7839|02-APR-81|2975|null|    20|\n",
            "| 7788| SCOTT|  ANALYST|7566|19-APR-87|3000|null|    20|\n",
            "| 7902|  FORD|  ANALYST|7566|03-DEC-81|3000|null|    20|\n",
            "| 7369| SMITH|    CLERK|7902|17-DEC-80| 800|null|    20|\n",
            "| 7499| ALLEN| SALESMAN|7698|20-FEB-81|1600| 300|    30|\n",
            "| 7521|  WARD| SALESMAN|7698|22-FEB-81|1250| 500|    30|\n",
            "| 7654|MARTIN| SALESMAN|7698|28-SEP-81|1250|1400|    30|\n",
            "| 7844|TURNER| SALESMAN|7698|08-SEP-81|1500|   0|    30|\n",
            "| 7876| ADAMS|    CLERK|7788|23-MAY-87|1100|null|    20|\n",
            "| 7900| JAMES|    CLERK|7698|03-DEC-81| 950|null|    30|\n",
            "| 7934|MILLER|    CLERK|7782|23-JAN-82|1300|null|    10|\n",
            "+-----+------+---------+----+---------+----+----+------+\n",
            "\n"
          ]
        }
      ]
    },
    {
      "cell_type": "code",
      "source": [
        "df_emp1.na.drop(how=\"any\",subset='COMM').show()\n",
        "#Note: In the above condition, Any null values in the COMM column corresponding rows will get delete."
      ],
      "metadata": {
        "colab": {
          "base_uri": "https://localhost:8080/"
        },
        "id": "1M01oSfbEW6u",
        "outputId": "edc64c1f-d9a5-44ed-bf75-86bcb1ae8d6e"
      },
      "execution_count": null,
      "outputs": [
        {
          "output_type": "stream",
          "name": "stdout",
          "text": [
            "+-----+------+--------+----+---------+----+----+------+\n",
            "|EMPNO| ENAME|     JOB| MGR| HIREDATE| SAL|COMM|DEPTNO|\n",
            "+-----+------+--------+----+---------+----+----+------+\n",
            "| 7499| ALLEN|SALESMAN|7698|20-FEB-81|1600| 300|    30|\n",
            "| 7521|  WARD|SALESMAN|7698|22-FEB-81|1250| 500|    30|\n",
            "| 7654|MARTIN|SALESMAN|7698|28-SEP-81|1250|1400|    30|\n",
            "| 7844|TURNER|SALESMAN|7698|08-SEP-81|1500|   0|    30|\n",
            "+-----+------+--------+----+---------+----+----+------+\n",
            "\n"
          ]
        }
      ]
    },
    {
      "cell_type": "markdown",
      "source": [
        "### **Filling Missing or NULL values**"
      ],
      "metadata": {
        "id": "8rjyyHnWE6me"
      }
    },
    {
      "cell_type": "code",
      "source": [
        "df_emp.na.fill('HHH').show()\n",
        "#Note: This is not working here. But we have multiple option based on the particular values we can apply."
      ],
      "metadata": {
        "colab": {
          "base_uri": "https://localhost:8080/"
        },
        "id": "igt4-66fFCw8",
        "outputId": "6131f8a4-5987-4f1d-f82f-12856ad14456"
      },
      "execution_count": null,
      "outputs": [
        {
          "output_type": "stream",
          "name": "stdout",
          "text": [
            "+-----+------+---------+----+---------+----+----+------+\n",
            "|EMPNO| ENAME|      JOB| MGR| HIREDATE| SAL|COMM|DEPTNO|\n",
            "+-----+------+---------+----+---------+----+----+------+\n",
            "| 7839|  KING|PRESIDENT|null|17-NOV-81|5000|null|    10|\n",
            "| 7698| BLAKE|  MANAGER|7839|01-MAY-81|2850|null|    30|\n",
            "| 7782| CLARK|  MANAGER|7839|09-JUN-81|2450|null|    10|\n",
            "| 7566| JONES|  MANAGER|7839|02-APR-81|2975|null|    20|\n",
            "| 7788| SCOTT|  ANALYST|7566|19-APR-87|3000|null|    20|\n",
            "| 7902|  FORD|  ANALYST|7566|03-DEC-81|3000|null|    20|\n",
            "| 7369| SMITH|    CLERK|7902|17-DEC-80| 800|null|    20|\n",
            "| 7499| ALLEN| SALESMAN|7698|20-FEB-81|1600| 300|    30|\n",
            "| 7521|  WARD| SALESMAN|7698|22-FEB-81|1250| 500|    30|\n",
            "| 7654|MARTIN| SALESMAN|7698|28-SEP-81|1250|1400|    30|\n",
            "| 7844|TURNER| SALESMAN|7698|08-SEP-81|1500|   0|    30|\n",
            "| 7876| ADAMS|    CLERK|7788|23-MAY-87|1100|null|    20|\n",
            "| 7900| JAMES|    CLERK|7698|03-DEC-81| 950|null|    30|\n",
            "| 7934|MILLER|    CLERK|7782|23-JAN-82|1300|null|    10|\n",
            "+-----+------+---------+----+---------+----+----+------+\n",
            "\n"
          ]
        }
      ]
    },
    {
      "cell_type": "markdown",
      "source": [
        "# **PySpark DataFrames**\n",
        "### **Filter Operations**\n",
        "### **&,| and ==**\n",
        "### **~**"
      ],
      "metadata": {
        "id": "eE1wXQ2nGtRQ"
      }
    },
    {
      "cell_type": "code",
      "source": [
        "df_emp.filter(\"deptno == 10\").show()"
      ],
      "metadata": {
        "colab": {
          "base_uri": "https://localhost:8080/"
        },
        "id": "3_w0YPMGHAtA",
        "outputId": "131b9dc2-1843-4352-d26c-3145ddda883e"
      },
      "execution_count": null,
      "outputs": [
        {
          "output_type": "stream",
          "name": "stdout",
          "text": [
            "+-----+------+---------+----+---------+----+----+------+\n",
            "|EMPNO| ENAME|      JOB| MGR| HIREDATE| SAL|COMM|DEPTNO|\n",
            "+-----+------+---------+----+---------+----+----+------+\n",
            "| 7839|  KING|PRESIDENT|null|17-NOV-81|5000|null|    10|\n",
            "| 7782| CLARK|  MANAGER|7839|09-JUN-81|2450|null|    10|\n",
            "| 7934|MILLER|    CLERK|7782|23-JAN-82|1300|null|    10|\n",
            "+-----+------+---------+----+---------+----+----+------+\n",
            "\n"
          ]
        }
      ]
    },
    {
      "cell_type": "code",
      "source": [
        "#Alternative way\n",
        "df_emp.filter(df_emp['DEPTNO']==10).show()"
      ],
      "metadata": {
        "colab": {
          "base_uri": "https://localhost:8080/"
        },
        "id": "D3DgRv04FCz1",
        "outputId": "a8c05dbe-a952-4606-cce4-23dffe5eacf4"
      },
      "execution_count": null,
      "outputs": [
        {
          "output_type": "stream",
          "name": "stdout",
          "text": [
            "+-----+------+---------+----+---------+----+----+------+\n",
            "|EMPNO| ENAME|      JOB| MGR| HIREDATE| SAL|COMM|DEPTNO|\n",
            "+-----+------+---------+----+---------+----+----+------+\n",
            "| 7839|  KING|PRESIDENT|null|17-NOV-81|5000|null|    10|\n",
            "| 7782| CLARK|  MANAGER|7839|09-JUN-81|2450|null|    10|\n",
            "| 7934|MILLER|    CLERK|7782|23-JAN-82|1300|null|    10|\n",
            "+-----+------+---------+----+---------+----+----+------+\n",
            "\n"
          ]
        }
      ]
    },
    {
      "cell_type": "code",
      "source": [
        "#After applying the filters, If you want to display particular columns\n",
        "df_emp.filter(df_emp['DEPTNO']==10).select(['ENAME','DEPTNO','SAL']).show()"
      ],
      "metadata": {
        "colab": {
          "base_uri": "https://localhost:8080/"
        },
        "id": "X28JShmWHuye",
        "outputId": "252776e3-559c-4323-a9d4-7a896500d51d"
      },
      "execution_count": null,
      "outputs": [
        {
          "output_type": "stream",
          "name": "stdout",
          "text": [
            "+------+------+----+\n",
            "| ENAME|DEPTNO| SAL|\n",
            "+------+------+----+\n",
            "|  KING|    10|5000|\n",
            "| CLARK|    10|2450|\n",
            "|MILLER|    10|1300|\n",
            "+------+------+----+\n",
            "\n"
          ]
        }
      ]
    },
    {
      "cell_type": "code",
      "source": [
        "df_emp.filter((df_emp['DEPTNO']==10) & (df_emp['SAL']>2000)).show()"
      ],
      "metadata": {
        "colab": {
          "base_uri": "https://localhost:8080/"
        },
        "id": "GzXt7GH5Hu0-",
        "outputId": "efedecb9-6306-4fab-bd7a-9268c0be218c"
      },
      "execution_count": null,
      "outputs": [
        {
          "output_type": "stream",
          "name": "stdout",
          "text": [
            "+-----+-----+---------+----+---------+----+----+------+\n",
            "|EMPNO|ENAME|      JOB| MGR| HIREDATE| SAL|COMM|DEPTNO|\n",
            "+-----+-----+---------+----+---------+----+----+------+\n",
            "| 7839| KING|PRESIDENT|null|17-NOV-81|5000|null|    10|\n",
            "| 7782|CLARK|  MANAGER|7839|09-JUN-81|2450|null|    10|\n",
            "+-----+-----+---------+----+---------+----+----+------+\n",
            "\n"
          ]
        }
      ]
    },
    {
      "cell_type": "code",
      "source": [
        "df_emp.filter((df_emp['DEPTNO']==10) | (df_emp['SAL']>2000)).show()"
      ],
      "metadata": {
        "colab": {
          "base_uri": "https://localhost:8080/"
        },
        "id": "7EjkCK0dHu37",
        "outputId": "fd0b3428-befc-4eb5-86ee-ee7884aa6974"
      },
      "execution_count": null,
      "outputs": [
        {
          "output_type": "stream",
          "name": "stdout",
          "text": [
            "+-----+------+---------+----+---------+----+----+------+\n",
            "|EMPNO| ENAME|      JOB| MGR| HIREDATE| SAL|COMM|DEPTNO|\n",
            "+-----+------+---------+----+---------+----+----+------+\n",
            "| 7839|  KING|PRESIDENT|null|17-NOV-81|5000|null|    10|\n",
            "| 7698| BLAKE|  MANAGER|7839|01-MAY-81|2850|null|    30|\n",
            "| 7782| CLARK|  MANAGER|7839|09-JUN-81|2450|null|    10|\n",
            "| 7566| JONES|  MANAGER|7839|02-APR-81|2975|null|    20|\n",
            "| 7788| SCOTT|  ANALYST|7566|19-APR-87|3000|null|    20|\n",
            "| 7902|  FORD|  ANALYST|7566|03-DEC-81|3000|null|    20|\n",
            "| 7934|MILLER|    CLERK|7782|23-JAN-82|1300|null|    10|\n",
            "+-----+------+---------+----+---------+----+----+------+\n",
            "\n"
          ]
        }
      ]
    },
    {
      "cell_type": "markdown",
      "source": [
        "# **PySpark GroupBy and Aggregate Functions**"
      ],
      "metadata": {
        "id": "xzX7cLYBI_jH"
      }
    },
    {
      "cell_type": "code",
      "source": [
        "#from pyspark.sql.functions import sum"
      ],
      "metadata": {
        "id": "_g4BqBIvJFj3"
      },
      "execution_count": null,
      "outputs": []
    },
    {
      "cell_type": "code",
      "source": [
        "df_emp.groupBy(\"deptno\").agg(sum(\"sal\")).alias(\"Test\").show()"
      ],
      "metadata": {
        "colab": {
          "base_uri": "https://localhost:8080/"
        },
        "id": "aVCEwA7bJDRz",
        "outputId": "03661b89-a03d-47ea-9731-eddcbd54f49c"
      },
      "execution_count": null,
      "outputs": [
        {
          "output_type": "stream",
          "name": "stdout",
          "text": [
            "+------+--------+\n",
            "|deptno|sum(sal)|\n",
            "+------+--------+\n",
            "|    20|   10875|\n",
            "|    10|    8750|\n",
            "|    30|    9400|\n",
            "+------+--------+\n",
            "\n"
          ]
        }
      ]
    },
    {
      "cell_type": "markdown",
      "source": [
        "# **Window Related Functions OR Oracle Analytical Functions**"
      ],
      "metadata": {
        "id": "i3ZgWIcmOlsW"
      }
    },
    {
      "cell_type": "code",
      "source": [
        "from pyspark.sql.functions import *\n",
        "from pyspark.sql.window import *"
      ],
      "metadata": {
        "id": "-fNwYcaFHu7X"
      },
      "execution_count": null,
      "outputs": []
    },
    {
      "cell_type": "code",
      "source": [
        "ranks = Window.orderBy(df_emp['sal'].desc())"
      ],
      "metadata": {
        "id": "cw4NI5JVFC2w"
      },
      "execution_count": null,
      "outputs": []
    },
    {
      "cell_type": "code",
      "source": [
        "df_emp.withColumn(\"Ranks\",row_number().over(ranks)).show()"
      ],
      "metadata": {
        "colab": {
          "base_uri": "https://localhost:8080/"
        },
        "id": "adKwsAOYFC5j",
        "outputId": "acb49154-115e-412c-b886-efb3a7b88569"
      },
      "execution_count": null,
      "outputs": [
        {
          "output_type": "stream",
          "name": "stdout",
          "text": [
            "+-----+------+---------+----+---------+----+----+------+-----+\n",
            "|EMPNO| ENAME|      JOB| MGR| HIREDATE| SAL|COMM|DEPTNO|Ranks|\n",
            "+-----+------+---------+----+---------+----+----+------+-----+\n",
            "| 7839|  KING|PRESIDENT|null|17-NOV-81|5000|null|    10|    1|\n",
            "| 7788| SCOTT|  ANALYST|7566|19-APR-87|3000|null|    20|    2|\n",
            "| 7902|  FORD|  ANALYST|7566|03-DEC-81|3000|null|    20|    3|\n",
            "| 7566| JONES|  MANAGER|7839|02-APR-81|2975|null|    20|    4|\n",
            "| 7698| BLAKE|  MANAGER|7839|01-MAY-81|2850|null|    30|    5|\n",
            "| 7782| CLARK|  MANAGER|7839|09-JUN-81|2450|null|    10|    6|\n",
            "| 7499| ALLEN| SALESMAN|7698|20-FEB-81|1600| 300|    30|    7|\n",
            "| 7844|TURNER| SALESMAN|7698|08-SEP-81|1500|   0|    30|    8|\n",
            "| 7934|MILLER|    CLERK|7782|23-JAN-82|1300|null|    10|    9|\n",
            "| 7521|  WARD| SALESMAN|7698|22-FEB-81|1250| 500|    30|   10|\n",
            "| 7654|MARTIN| SALESMAN|7698|28-SEP-81|1250|1400|    30|   11|\n",
            "| 7876| ADAMS|    CLERK|7788|23-MAY-87|1100|null|    20|   12|\n",
            "| 7900| JAMES|    CLERK|7698|03-DEC-81| 950|null|    30|   13|\n",
            "| 7369| SMITH|    CLERK|7902|17-DEC-80| 800|null|    20|   14|\n",
            "+-----+------+---------+----+---------+----+----+------+-----+\n",
            "\n"
          ]
        }
      ]
    },
    {
      "cell_type": "markdown",
      "source": [
        ""
      ],
      "metadata": {
        "id": "tYgxo2wwnA-H"
      }
    },
    {
      "cell_type": "code",
      "source": [
        ""
      ],
      "metadata": {
        "id": "jglh4VeGnF4m"
      },
      "execution_count": null,
      "outputs": []
    },
    {
      "cell_type": "code",
      "source": [
        ""
      ],
      "metadata": {
        "id": "UteoY3yjFC9L"
      },
      "execution_count": null,
      "outputs": []
    },
    {
      "cell_type": "code",
      "source": [
        ""
      ],
      "metadata": {
        "id": "VTApN-buEW9c"
      },
      "execution_count": null,
      "outputs": []
    },
    {
      "cell_type": "code",
      "source": [
        ""
      ],
      "metadata": {
        "id": "n3A6Ru_4EXAv"
      },
      "execution_count": null,
      "outputs": []
    }
  ]
}