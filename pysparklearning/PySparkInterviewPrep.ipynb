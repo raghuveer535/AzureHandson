{
  "nbformat": 4,
  "nbformat_minor": 0,
  "metadata": {
    "colab": {
      "name": "PySparkInterviewPrep.ipynb",
      "provenance": [],
      "collapsed_sections": []
    },
    "kernelspec": {
      "name": "python3",
      "display_name": "Python 3"
    },
    "language_info": {
      "name": "python"
    }
  },
  "cells": [
    {
      "cell_type": "code",
      "execution_count": null,
      "metadata": {
        "colab": {
          "base_uri": "https://localhost:8080/"
        },
        "id": "o5NxwfuubYRr",
        "outputId": "b41c66aa-7b41-4495-88e6-570c37656905"
      },
      "outputs": [
        {
          "output_type": "stream",
          "name": "stdout",
          "text": [
            "Collecting pyspark\n",
            "  Downloading pyspark-3.2.1.tar.gz (281.4 MB)\n",
            "\u001b[K     |████████████████████████████████| 281.4 MB 35 kB/s \n",
            "\u001b[?25hCollecting py4j\n",
            "  Downloading py4j-0.10.9.5-py2.py3-none-any.whl (199 kB)\n",
            "\u001b[K     |████████████████████████████████| 199 kB 52.8 MB/s \n",
            "\u001b[?25h  Downloading py4j-0.10.9.3-py2.py3-none-any.whl (198 kB)\n",
            "\u001b[K     |████████████████████████████████| 198 kB 62.9 MB/s \n",
            "\u001b[?25hBuilding wheels for collected packages: pyspark\n",
            "  Building wheel for pyspark (setup.py) ... \u001b[?25l\u001b[?25hdone\n",
            "  Created wheel for pyspark: filename=pyspark-3.2.1-py2.py3-none-any.whl size=281853642 sha256=69befef9b13c2b5128ce206fbd51a7d51d1f9ff3a9fab86a50434f30c74029b4\n",
            "  Stored in directory: /root/.cache/pip/wheels/9f/f5/07/7cd8017084dce4e93e84e92efd1e1d5334db05f2e83bcef74f\n",
            "Successfully built pyspark\n",
            "Installing collected packages: py4j, pyspark\n",
            "Successfully installed py4j-0.10.9.3 pyspark-3.2.1\n"
          ]
        }
      ],
      "source": [
        "!pip install pyspark py4j"
      ]
    },
    {
      "cell_type": "code",
      "source": [
        "!pip install findspark"
      ],
      "metadata": {
        "colab": {
          "base_uri": "https://localhost:8080/"
        },
        "id": "03TjuwH0dYnv",
        "outputId": "0b5a3c29-3e9f-4bbf-a087-a94d1c95dd06"
      },
      "execution_count": null,
      "outputs": [
        {
          "output_type": "stream",
          "name": "stdout",
          "text": [
            "Collecting findspark\n",
            "  Downloading findspark-2.0.1-py2.py3-none-any.whl (4.4 kB)\n",
            "Installing collected packages: findspark\n",
            "Successfully installed findspark-2.0.1\n"
          ]
        }
      ]
    },
    {
      "cell_type": "code",
      "source": [
        "#Initializing Pyspark using findspark.init(SPARK_HOME_PATH)\n",
        "#init() default it will consider SPARK_HOME Environment variabbles..\n",
        "import findspark\n",
        "findspark.init()"
      ],
      "metadata": {
        "id": "C3AD7YYjdYqt"
      },
      "execution_count": null,
      "outputs": []
    },
    {
      "cell_type": "code",
      "source": [
        "#import sparkcontext\n",
        "from pyspark import SparkContext"
      ],
      "metadata": {
        "id": "msJVSCzhdYtv"
      },
      "execution_count": null,
      "outputs": []
    },
    {
      "cell_type": "code",
      "source": [
        "#create SparkContext\n",
        "sc = SparkContext.getOrCreate()\n",
        "print(\"SparkCOntext: \",sc)"
      ],
      "metadata": {
        "colab": {
          "base_uri": "https://localhost:8080/"
        },
        "id": "XgAMcOA3dYw8",
        "outputId": "a0ddfca1-3f3b-42c1-9439-3dac472a7dd4"
      },
      "execution_count": null,
      "outputs": [
        {
          "output_type": "stream",
          "name": "stdout",
          "text": [
            "SparkCOntext:  <SparkContext master=local[*] appName=pyspark-shell>\n"
          ]
        }
      ]
    },
    {
      "cell_type": "code",
      "source": [
        "from pyspark.sql import SparkSession"
      ],
      "metadata": {
        "id": "9EWgn3cadYzv"
      },
      "execution_count": null,
      "outputs": []
    },
    {
      "cell_type": "code",
      "source": [
        "spark = SparkSession.builder \\\n",
        "        .master(\"local\") \\\n",
        "        .appName(\"YourLucky1\") \\\n",
        "        .getOrCreate()"
      ],
      "metadata": {
        "id": "VKVJtVxedY2d"
      },
      "execution_count": null,
      "outputs": []
    },
    {
      "cell_type": "code",
      "source": [
        "df_emp = spark.read.option(\"inferSchema\",\"true\").option(\"deliiter\",\",\").option(\"header\",\"true\")\\\n",
        ".csv('sample_data/Emp_Table_Extract.csv')"
      ],
      "metadata": {
        "id": "ISzBe4fTdY6B"
      },
      "execution_count": null,
      "outputs": []
    },
    {
      "cell_type": "code",
      "source": [
        "df_emp.createOrReplaceTempView(\"emp_tab\")"
      ],
      "metadata": {
        "id": "qBAyQCmheJPr"
      },
      "execution_count": null,
      "outputs": []
    },
    {
      "cell_type": "code",
      "source": [
        "spark.sql(\"select ename,sal,sal+nvl(comm,0) tot_sal from emp_tab\").show()"
      ],
      "metadata": {
        "id": "p_7o2kbueJSu",
        "colab": {
          "base_uri": "https://localhost:8080/"
        },
        "outputId": "b7f9c6de-98ea-47ff-d957-911b22dfad32"
      },
      "execution_count": null,
      "outputs": [
        {
          "output_type": "stream",
          "name": "stdout",
          "text": [
            "+------+----+-------+\n",
            "| ename| sal|tot_sal|\n",
            "+------+----+-------+\n",
            "|  KING|5000|   5000|\n",
            "| BLAKE|2850|   2850|\n",
            "| CLARK|2450|   2450|\n",
            "| JONES|2975|   2975|\n",
            "| SCOTT|3000|   3000|\n",
            "|  FORD|3000|   3000|\n",
            "| SMITH| 800|    800|\n",
            "| ALLEN|1600|   1900|\n",
            "|  WARD|1250|   1750|\n",
            "|MARTIN|1250|   2650|\n",
            "|TURNER|1500|   1500|\n",
            "| ADAMS|1100|   1100|\n",
            "| JAMES| 950|    950|\n",
            "|MILLER|1300|   1300|\n",
            "+------+----+-------+\n",
            "\n"
          ]
        }
      ]
    },
    {
      "cell_type": "markdown",
      "source": [
        "# **Pyspark User Defined Functions**"
      ],
      "metadata": {
        "id": "kjCfpTJocyZi"
      }
    },
    {
      "cell_type": "code",
      "source": [
        "def tot_sal(sal,comm):\n",
        "  if comm is None:\n",
        "    return sal\n",
        "  else:\n",
        "    return sal+comm"
      ],
      "metadata": {
        "id": "N_YliVUEc4gz"
      },
      "execution_count": null,
      "outputs": []
    },
    {
      "cell_type": "code",
      "source": [
        "from pyspark.sql.types import IntegerType\n",
        "#This will make it available to use(Stored in SQL metastore)"
      ],
      "metadata": {
        "id": "n5WazX4ceJVu"
      },
      "execution_count": null,
      "outputs": []
    },
    {
      "cell_type": "code",
      "source": [
        "spark.udf.register(name='tot_sal',f=tot_sal,returnType=IntegerType())"
      ],
      "metadata": {
        "id": "YPnaEpYbeJZW",
        "colab": {
          "base_uri": "https://localhost:8080/"
        },
        "outputId": "1b6a88b9-de4b-454d-e967-559dc108c586"
      },
      "execution_count": null,
      "outputs": [
        {
          "output_type": "execute_result",
          "data": {
            "text/plain": [
              "<function __main__.tot_sal>"
            ]
          },
          "metadata": {},
          "execution_count": 15
        }
      ]
    },
    {
      "cell_type": "code",
      "source": [
        "spark.sql(\"select ename,deptno,tot_sal(sal,comm) tot_sal from emp_tab\").show()"
      ],
      "metadata": {
        "colab": {
          "base_uri": "https://localhost:8080/"
        },
        "id": "ZuUnudghd-yG",
        "outputId": "9d7d347f-d1bc-482c-d651-44978522f261"
      },
      "execution_count": null,
      "outputs": [
        {
          "output_type": "stream",
          "name": "stdout",
          "text": [
            "+------+------+-------+\n",
            "| ename|deptno|tot_sal|\n",
            "+------+------+-------+\n",
            "|  KING|    10|   5000|\n",
            "| BLAKE|    30|   2850|\n",
            "| CLARK|    10|   2450|\n",
            "| JONES|    20|   2975|\n",
            "| SCOTT|    20|   3000|\n",
            "|  FORD|    20|   3000|\n",
            "| SMITH|    20|    800|\n",
            "| ALLEN|    30|   1900|\n",
            "|  WARD|    30|   1750|\n",
            "|MARTIN|    30|   2650|\n",
            "|TURNER|    30|   1500|\n",
            "| ADAMS|    20|   1100|\n",
            "| JAMES|    30|    950|\n",
            "|MILLER|    10|   1300|\n",
            "+------+------+-------+\n",
            "\n"
          ]
        }
      ]
    },
    {
      "cell_type": "code",
      "source": [
        "df1"
      ],
      "metadata": {
        "id": "AhqoHEfLd-1b",
        "colab": {
          "base_uri": "https://localhost:8080/",
          "height": 165
        },
        "outputId": "fa0b37a9-2902-42b6-ebcf-68257d5cac55"
      },
      "execution_count": null,
      "outputs": [
        {
          "output_type": "error",
          "ename": "NameError",
          "evalue": "ignored",
          "traceback": [
            "\u001b[0;31m---------------------------------------------------------------------------\u001b[0m",
            "\u001b[0;31mNameError\u001b[0m                                 Traceback (most recent call last)",
            "\u001b[0;32m<ipython-input-1-6a861a8b3f1a>\u001b[0m in \u001b[0;36m<module>\u001b[0;34m()\u001b[0m\n\u001b[0;32m----> 1\u001b[0;31m \u001b[0mdf1\u001b[0m\u001b[0;34m\u001b[0m\u001b[0;34m\u001b[0m\u001b[0m\n\u001b[0m",
            "\u001b[0;31mNameError\u001b[0m: name 'df1' is not defined"
          ]
        }
      ]
    },
    {
      "cell_type": "code",
      "source": [
        ""
      ],
      "metadata": {
        "id": "PlQc278ed-9l"
      },
      "execution_count": null,
      "outputs": []
    },
    {
      "cell_type": "code",
      "source": [
        ""
      ],
      "metadata": {
        "id": "vIUpp8cyd_A1"
      },
      "execution_count": null,
      "outputs": []
    }
  ]
}